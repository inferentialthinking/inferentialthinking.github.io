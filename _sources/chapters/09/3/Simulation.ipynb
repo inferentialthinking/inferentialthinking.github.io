{
 "cells": [
  {
   "cell_type": "code",
   "execution_count": 1,
   "metadata": {
    "tags": [
     "remove-input"
    ]
   },
   "outputs": [],
   "source": [
    "from datascience import *\n",
    "path_data = '../../../assets/data/'\n",
    "import matplotlib\n",
    "matplotlib.use('Agg')\n",
    "%matplotlib inline\n",
    "import matplotlib.pyplot as plots\n",
    "plots.style.use('fivethirtyeight')\n",
    "import numpy as np"
   ]
  },
  {
   "cell_type": "markdown",
   "metadata": {},
   "source": [
    "# Simulation\n",
    "Simulation is the process of using a computer to mimic a physical experiment. In this class, those experiments will almost invariably involve chance. \n",
    "\n",
    "We have seen how to simulate the results of tosses of a coin. The steps in that simulation were examples of the steps that will constitute every simulation we do in this course. In this section we will set out those steps and follow them in examples.\n",
    "\n",
    "## The Process\n",
    "\n",
    "**Step 1: What to Simulate**\n",
    "\n",
    "Decide which quantity you want to simulate. For example, you might decide that you want to simulate the outcomes of tosses of a coin. Each simulated value will be a Head or a Tail.\n",
    "\n",
    "**Step 2: Simulating One Value**\n",
    "\n",
    "Figure out how to simulate *one* value of the quantity you specified in Step 1. In our example, you have to figure out how to simulate the outcome of *one* toss of a coin. If your quantity is more complicated, you might need several lines of code to come up with one simulated value. Typically, we will define a function that returns the simulated value.\n",
    "\n",
    "**Step 3: Number of Repetitions**\n",
    "\n",
    "Decide how many times you want to simulate the quantity. You will have to repeat the simulation in Step 2 that many times. In one of our earlier examples we had decided to simulate the outcomes of 1000 tosses of a coin, and so we needed 1000 repetitions of generating the outcome of a single toss.\n",
    "\n",
    "**Step 4: Simulating Multiple Values**\n",
    "\n",
    "Finally, put it all together as follows.\n",
    "\n",
    "- Create an empty array in which to collect all the simulated values. We will call this the collection array.\n",
    "- Create a \"repetitions sequence,\" that is, a sequence whose length is the number of repetitions you specified in Step 3. For `n` repetitions we will almost always use the sequence `np.arange(n)`.\n",
    "- Create a `for` loop. For each element of the repetitions sequence:\n",
    "    - Simulate *one* value by using the function you wrote in Step 2.\n",
    "    - Augment the collection array with this simulated value.\n",
    "    \n",
    "That's it! Once you have carried out the steps above, your simulation is done. The collection array contains all the simulated values. \n",
    "\n",
    "At this point you can use the collection array as you would any other array. You can count how many simulated values fall into a particular category, place the array in the column of a table and visualize the distribution of the simulated values, and so on."
   ]
  },
  {
   "cell_type": "markdown",
   "metadata": {},
   "source": [
    "## Example: Number of Heads in 100 Tosses\n",
    "It is natural to expect that in 100 tosses of a coin, there will be 50 heads, give or take a few. \n",
    "\n",
    "But how many is \"a few\"? What's the chance of getting exactly 50 heads? Questions like these matter in data science not only because they are about interesting aspects of randomness, but also because they can be used in analyzing experiments where assignments to treatment and control groups are decided by the toss of a coin.\n",
    "\n",
    "In this example we will simulate the number of heads in 100 tosses of a coin. The histogram of our results will give us some insight into how many heads are likely.\n",
    "\n",
    "Let's get started on the simulation, following the steps above.\n",
    "\n",
    "**Step 1: What to Simulate**\n",
    "\n",
    "The quantity we are going to simulate is the number of heads in 100 tosses. \n",
    "\n",
    "**Step 2: Simulating One Value**\n",
    "\n",
    "We have to figure out how to make one set of 100 tosses and count the number of heads. Let's start by creating a coin."
   ]
  },
  {
   "cell_type": "code",
   "execution_count": 2,
   "metadata": {},
   "outputs": [],
   "source": [
    "coin = make_array('Heads', 'Tails')"
   ]
  },
  {
   "cell_type": "markdown",
   "metadata": {},
   "source": [
    "In our earlier example we used `np.random.choice` and a `for` loop to generate multiple tosses. But sets of coin tosses are needed so often in data science that `np.random.choice` simulates them for us if we include a second argument that is the number of times to toss.\n",
    "\n",
    "Here are the results of 10 tosses."
   ]
  },
  {
   "cell_type": "code",
   "execution_count": 3,
   "metadata": {},
   "outputs": [
    {
     "data": {
      "text/plain": [
       "array(['Heads', 'Tails', 'Heads', 'Tails', 'Tails', 'Heads', 'Tails',\n",
       "       'Tails', 'Tails', 'Heads'], dtype='<U5')"
      ]
     },
     "execution_count": 3,
     "metadata": {},
     "output_type": "execute_result"
    }
   ],
   "source": [
    "ten_tosses = np.random.choice(coin, 10)\n",
    "ten_tosses"
   ]
  },
  {
   "cell_type": "markdown",
   "metadata": {},
   "source": [
    "We can count the number of heads by using `np.count_nonzero` as before:"
   ]
  },
  {
   "cell_type": "code",
   "execution_count": 4,
   "metadata": {},
   "outputs": [
    {
     "data": {
      "text/plain": [
       "4"
      ]
     },
     "execution_count": 4,
     "metadata": {},
     "output_type": "execute_result"
    }
   ],
   "source": [
    "np.count_nonzero(ten_tosses == 'Heads')"
   ]
  },
  {
   "cell_type": "markdown",
   "metadata": {},
   "source": [
    "Our goal is to simulate the number of heads in 100 tosses, not 10. To do that we can just repeat the same code, replacing 10 by 100."
   ]
  },
  {
   "cell_type": "code",
   "execution_count": 5,
   "metadata": {},
   "outputs": [
    {
     "data": {
      "text/plain": [
       "46"
      ]
     },
     "execution_count": 5,
     "metadata": {},
     "output_type": "execute_result"
    }
   ],
   "source": [
    "outcomes = np.random.choice(coin, 100)\n",
    "num_heads = np.count_nonzero(outcomes == 'Heads')\n",
    "num_heads"
   ]
  },
  {
   "cell_type": "markdown",
   "metadata": {},
   "source": [
    "Since we will want to do this multiple times, let's define a function that returns the simulated value of the number of heads. We can do this using the code developed in the cell above."
   ]
  },
  {
   "cell_type": "code",
   "execution_count": 6,
   "metadata": {},
   "outputs": [],
   "source": [
    "def one_simulated_value():\n",
    "    outcomes = np.random.choice(coin, 100)\n",
    "    return np.count_nonzero(outcomes == 'Heads')"
   ]
  },
  {
   "cell_type": "markdown",
   "metadata": {},
   "source": [
    "**Step 3: Number of Repetitions**\n",
    "\n",
    "How many repetitions we will use is up to us. The more we use, the more reliable our simulations will be, but the longer it will take to run the code. Python is pretty fast at tossing coins, so let's go for 20,000 repetitions. That means we are going to do the following 20,000 times:\n",
    "- Toss a coin 100 times and count the number of heads.\n",
    "\n",
    "That's a lot of tossing! It's good that we have Python to do it for us.\n",
    "\n",
    "**Step 4: Simulating Multiple Values**\n",
    "\n",
    "We are ready to create an array of 20,000 simulated values of the number of heads in 100 tosses of a coin."
   ]
  },
  {
   "cell_type": "code",
   "execution_count": 7,
   "metadata": {},
   "outputs": [],
   "source": [
    "num_repetitions = 20000   # number of repetitions\n",
    "\n",
    "heads = make_array() # empty collection array\n",
    "\n",
    "for i in np.arange(num_repetitions):   # repeat the process num_repetitions times\n",
    "    new_value = one_simulated_value()  # simulate one value using the function defined\n",
    "    heads = np.append(heads, new_value) # augment the collection array with the simulated value\n",
    "\n",
    "# That's it! The simulation is done."
   ]
  },
  {
   "cell_type": "markdown",
   "metadata": {},
   "source": [
    "Check that the array `heads` contains 20,000 entries, one for each repetition of the experiment."
   ]
  },
  {
   "cell_type": "code",
   "execution_count": 8,
   "metadata": {},
   "outputs": [
    {
     "data": {
      "text/plain": [
       "20000"
      ]
     },
     "execution_count": 8,
     "metadata": {},
     "output_type": "execute_result"
    }
   ],
   "source": [
    "len(heads)"
   ]
  },
  {
   "cell_type": "markdown",
   "metadata": {},
   "source": [
    "To get a sense of the variability in the number of heads in 100 tosses, we can collect the results in a table and draw a histogram."
   ]
  },
  {
   "cell_type": "code",
   "execution_count": 9,
   "metadata": {},
   "outputs": [],
   "source": [
    "simulation_results = Table().with_columns(\n",
    "    'Repetition', np.arange(1, num_repetitions + 1),\n",
    "    'Number of Heads', heads\n",
    ")"
   ]
  },
  {
   "cell_type": "code",
   "execution_count": 10,
   "metadata": {},
   "outputs": [
    {
     "data": {
      "text/html": [
       "<table border=\"1\" class=\"dataframe\">\n",
       "    <thead>\n",
       "        <tr>\n",
       "            <th>Repetition</th> <th>Number of Heads</th>\n",
       "        </tr>\n",
       "    </thead>\n",
       "    <tbody>\n",
       "        <tr>\n",
       "            <td>1         </td> <td>44             </td>\n",
       "        </tr>\n",
       "        <tr>\n",
       "            <td>2         </td> <td>54             </td>\n",
       "        </tr>\n",
       "        <tr>\n",
       "            <td>3         </td> <td>44             </td>\n",
       "        </tr>\n",
       "    </tbody>\n",
       "</table>\n",
       "<p>... (19997 rows omitted)</p>"
      ],
      "text/plain": [
       "<IPython.core.display.HTML object>"
      ]
     },
     "metadata": {},
     "output_type": "display_data"
    }
   ],
   "source": [
    "simulation_results.show(3)"
   ]
  },
  {
   "cell_type": "code",
   "execution_count": 11,
   "metadata": {},
   "outputs": [
    {
     "data": {
      "image/png": "[encoded data removed]",
      "text/plain": [
       "<Figure size 432x288 with 1 Axes>"
      ]
     },
     "metadata": {},
     "output_type": "display_data"
    }
   ],
   "source": [
    "simulation_results.hist('Number of Heads', bins = np.arange(30.5, 69.6, 1))"
   ]
  },
  {
   "cell_type": "markdown",
   "metadata": {},
   "source": [
    "Each bin has width 1 and is centered at each value of the number of heads.\n",
    "\n",
    "Not surprisingly, the histogram looks roughly symmetric around 50 heads. The height of the bar at 50 is about 8% per unit. Since each bin is 1 unit wide, this is the same as saying that about 8% of the repetitions produced exactly 50 heads. That's not a huge percent, but it's the largest compared to the percent at every other number of heads.\n",
    "\n",
    "The histogram also shows that in almost all of the repetitions, the number of heads in 100 tosses was somewhere between 35 and 65. Indeed, the bulk of the repetitions produced numbers of heads in the range 45 to 55. \n",
    "\n",
    "While in theory it is *possible* that the number of heads can be anywhere between 0 and 100, the simulation shows that the range of *probable* values is much smaller.\n",
    "\n",
    "This is an instance of a more general phenomenon about the variability in coin tossing, as we will see later in the course."
   ]
  },
  {
   "cell_type": "markdown",
   "metadata": {},
   "source": [
    "## Example: Moves in Monopoly ##\n",
    "\n",
    "Each move in the game Monopoly is determined by the total number of spots of two rolls of a die. If you play Monopoly, what should you expect to get when you roll the die two times?\n",
    "\n",
    "We can explore this by simulating the sum of two rolls of a die. We will run the simulation 10,000 times. Notice that in this paragraph we have completed Steps 1 and 3 of our simulation process.\n",
    "\n",
    "Step 2 is the one in which we write a function to simulate the total number of spots in one pair of rolls. First, let's plan our code. We will create an array containing the numbers 1 through 6, draw two times from the array at random with replacement, and add the two numbers drawn."
   ]
  },
  {
   "cell_type": "code",
   "execution_count": 12,
   "metadata": {},
   "outputs": [
    {
     "data": {
      "text/plain": [
       "7"
      ]
     },
     "execution_count": 12,
     "metadata": {},
     "output_type": "execute_result"
    }
   ],
   "source": [
    "die = np.arange(1, 7)\n",
    "sum(np.random.choice(die, 2))"
   ]
  },
  {
   "cell_type": "markdown",
   "metadata": {},
   "source": [
    "We can use the array `die` and the expression above to define a function that simulates one move in Monopoly."
   ]
  },
  {
   "cell_type": "code",
   "execution_count": 13,
   "metadata": {},
   "outputs": [],
   "source": [
    "def one_simulated_move():\n",
    "    return sum(np.random.choice(die, 2))"
   ]
  },
  {
   "cell_type": "markdown",
   "metadata": {},
   "source": [
    "Now we can create an array of 10000 simulated Monopoly moves, by starting with an empty collection array and augmenting it by each new simulated move."
   ]
  },
  {
   "cell_type": "code",
   "execution_count": 14,
   "metadata": {},
   "outputs": [],
   "source": [
    "num_repetitions = 10000\n",
    "\n",
    "moves = make_array()\n",
    "for i in np.arange(num_repetitions):\n",
    "    new_move = one_simulated_move()\n",
    "    moves = np.append(moves, new_move)"
   ]
  },
  {
   "cell_type": "markdown",
   "metadata": {},
   "source": [
    "Here is a histogram of the results."
   ]
  },
  {
   "cell_type": "code",
   "execution_count": 15,
   "metadata": {},
   "outputs": [
    {
     "data": {
      "image/png": "[encoded data removed]",
      "text/plain": [
       "<Figure size 432x288 with 1 Axes>"
      ]
     },
     "metadata": {},
     "output_type": "display_data"
    }
   ],
   "source": [
    "results = Table().with_columns(\n",
    "    'Repetition', np.arange(1, num_repetitions + 1),\n",
    "    'Sum of Two Rolls', moves\n",
    ")\n",
    "\n",
    "results.hist('Sum of Two Rolls', bins = np.arange(1.5, 12.6, 1))"
   ]
  },
  {
   "cell_type": "markdown",
   "metadata": {},
   "source": [
    "Seven is the most common value, with the frequencies falling off symmetrically on either side."
   ]
  }
 ],
 "metadata": {
  "anaconda-cloud": {},
  "kernelspec": {
   "display_name": "Python 3",
   "language": "python",
   "name": "python3"
  },
  "language_info": {
   "codemirror_mode": {
    "name": "ipython",
    "version": 3
   },
   "file_extension": ".py",
   "mimetype": "text/x-python",
   "name": "python",
   "nbconvert_exporter": "python",
   "pygments_lexer": "ipython3",
   "version": "3.8.3"
  }
 },
 "nbformat": 4,
 "nbformat_minor": 1
}
