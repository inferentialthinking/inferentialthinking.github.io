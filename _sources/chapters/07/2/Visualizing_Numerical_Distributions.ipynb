{
 "cells": [
  {
   "cell_type": "code",
   "execution_count": 1,
   "metadata": {
    "tags": [
     "remove-input"
    ]
   },
   "outputs": [],
   "source": [
    "from datascience import *\n",
    "import numpy as np\n",
    "path_data = '../../../assets/data/'\n",
    "%matplotlib inline\n",
    "import matplotlib.pyplot as plots\n",
    "plots.style.use('fivethirtyeight')"
   ]
  },
  {
   "cell_type": "markdown",
   "metadata": {},
   "source": [
    "# Visualizing Numerical Distributions\n",
    "\n",
    "Many of the variables that data scientists study are *quantitative* or *numerical*. Their values are numbers on which you can perform arithmetic. Examples that we have seen include the number of periods in chapters of a book, the amount of money made by movies, and the age of people in the United States.\n",
    "\n",
    "The values of a categorical variable can be given numerical codes, but that doesn't make the variable quantitative. In the example in which we studied Census data broken down by age group, the categorial variable `SEX` had the numerical codes `1` for 'Male,' `2` for 'Female,' and `0` for the aggregate of both groups `1` and `2`. While 0, 1, and 2 are numbers, in this context it doesn't make sense to subtract 1 from 2, or take the average of 0, 1, and 2, or perform other arithmetic on the three values. `SEX` is a categorical variable even though the values have been given a numerical code."
   ]
  },
  {
   "cell_type": "markdown",
   "metadata": {},
   "source": [
    "For our main example, we will return to a dataset that we studied when we were visualizing categorical data. It is the table `top`, which consists of data from U.S.A.'s top grossing movies of all time (as of 2017). For convenience, here is the description of the table again.\n",
    "\n",
    "The first column contains the title of the movie. The second column contains the name of the studio that produced the movie. The third contains the domestic box office gross in dollars, and the fourth contains the  gross amount that would have been earned from ticket sales at 2016 prices. The fifth contains the release year of the movie. \n",
    "\n",
    "There are 200 movies on the list. Here are the top ten according to the unadjusted gross receipts in the column `Gross`."
   ]
  },
  {
   "cell_type": "code",
   "execution_count": 2,
   "metadata": {},
   "outputs": [
    {
     "data": {
      "text/html": [
       "<table border=\"1\" class=\"dataframe\">\n",
       "    <thead>\n",
       "        <tr>\n",
       "            <th>Title</th> <th>Studio</th> <th>Gross</th> <th>Gross (Adjusted)</th> <th>Year</th>\n",
       "        </tr>\n",
       "    </thead>\n",
       "    <tbody>\n",
       "        <tr>\n",
       "            <td>Gone with the Wind              </td> <td>MGM            </td> <td>198,676,459</td> <td>1,796,176,700   </td> <td>1939</td>\n",
       "        </tr>\n",
       "        <tr>\n",
       "            <td>Star Wars                       </td> <td>Fox            </td> <td>460,998,007</td> <td>1,583,483,200   </td> <td>1977</td>\n",
       "        </tr>\n",
       "        <tr>\n",
       "            <td>The Sound of Music              </td> <td>Fox            </td> <td>158,671,368</td> <td>1,266,072,700   </td> <td>1965</td>\n",
       "        </tr>\n",
       "        <tr>\n",
       "            <td>E.T.: The Extra-Terrestrial     </td> <td>Universal      </td> <td>435,110,554</td> <td>1,261,085,000   </td> <td>1982</td>\n",
       "        </tr>\n",
       "        <tr>\n",
       "            <td>Titanic                         </td> <td>Paramount      </td> <td>658,672,302</td> <td>1,204,368,000   </td> <td>1997</td>\n",
       "        </tr>\n",
       "        <tr>\n",
       "            <td>The Ten Commandments            </td> <td>Paramount      </td> <td>65,500,000 </td> <td>1,164,590,000   </td> <td>1956</td>\n",
       "        </tr>\n",
       "        <tr>\n",
       "            <td>Jaws                            </td> <td>Universal      </td> <td>260,000,000</td> <td>1,138,620,700   </td> <td>1975</td>\n",
       "        </tr>\n",
       "        <tr>\n",
       "            <td>Doctor Zhivago                  </td> <td>MGM            </td> <td>111,721,910</td> <td>1,103,564,200   </td> <td>1965</td>\n",
       "        </tr>\n",
       "        <tr>\n",
       "            <td>The Exorcist                    </td> <td>Warner Brothers</td> <td>232,906,145</td> <td>983,226,600     </td> <td>1973</td>\n",
       "        </tr>\n",
       "        <tr>\n",
       "            <td>Snow White and the Seven Dwarves</td> <td>Disney         </td> <td>184,925,486</td> <td>969,010,000     </td> <td>1937</td>\n",
       "        </tr>\n",
       "    </tbody>\n",
       "</table>\n",
       "<p>... (190 rows omitted)</p>"
      ],
      "text/plain": [
       "Title                            | Studio          | Gross       | Gross (Adjusted) | Year\n",
       "Gone with the Wind               | MGM             | 198,676,459 | 1,796,176,700    | 1939\n",
       "Star Wars                        | Fox             | 460,998,007 | 1,583,483,200    | 1977\n",
       "The Sound of Music               | Fox             | 158,671,368 | 1,266,072,700    | 1965\n",
       "E.T.: The Extra-Terrestrial      | Universal       | 435,110,554 | 1,261,085,000    | 1982\n",
       "Titanic                          | Paramount       | 658,672,302 | 1,204,368,000    | 1997\n",
       "The Ten Commandments             | Paramount       | 65,500,000  | 1,164,590,000    | 1956\n",
       "Jaws                             | Universal       | 260,000,000 | 1,138,620,700    | 1975\n",
       "Doctor Zhivago                   | MGM             | 111,721,910 | 1,103,564,200    | 1965\n",
       "The Exorcist                     | Warner Brothers | 232,906,145 | 983,226,600      | 1973\n",
       "Snow White and the Seven Dwarves | Disney          | 184,925,486 | 969,010,000      | 1937\n",
       "... (190 rows omitted)"
      ]
     },
     "execution_count": 2,
     "metadata": {},
     "output_type": "execute_result"
    }
   ],
   "source": [
    "top = Table.read_table(path_data + 'top_movies_2017.csv')\n",
    "# Make the numbers in the Gross and Gross (Adjusted) columns look nicer:\n",
    "top.set_format([2, 3], NumberFormatter)"
   ]
  },
  {
   "cell_type": "markdown",
   "metadata": {},
   "source": [
    "In this section we will draw graphs of the distribution of the numerical variable in the column `Gross (Adjusted)`. For simplicity, let's create a smaller table that has the information that we need. And since three-digit numbers are easier to work with than nine-digit numbers, let's measure the `Adjusted Gross` receipts in millions of dollars. Note how `np.round` is used to retain only two decimal places in each entry of the column."
   ]
  },
  {
   "cell_type": "code",
   "execution_count": 3,
   "metadata": {},
   "outputs": [
    {
     "data": {
      "text/html": [
       "<table border=\"1\" class=\"dataframe\">\n",
       "    <thead>\n",
       "        <tr>\n",
       "            <th>Title</th> <th>Adjusted Gross</th>\n",
       "        </tr>\n",
       "    </thead>\n",
       "    <tbody>\n",
       "        <tr>\n",
       "            <td>Gone with the Wind              </td> <td>1796.18       </td>\n",
       "        </tr>\n",
       "        <tr>\n",
       "            <td>Star Wars                       </td> <td>1583.48       </td>\n",
       "        </tr>\n",
       "        <tr>\n",
       "            <td>The Sound of Music              </td> <td>1266.07       </td>\n",
       "        </tr>\n",
       "        <tr>\n",
       "            <td>E.T.: The Extra-Terrestrial     </td> <td>1261.08       </td>\n",
       "        </tr>\n",
       "        <tr>\n",
       "            <td>Titanic                         </td> <td>1204.37       </td>\n",
       "        </tr>\n",
       "        <tr>\n",
       "            <td>The Ten Commandments            </td> <td>1164.59       </td>\n",
       "        </tr>\n",
       "        <tr>\n",
       "            <td>Jaws                            </td> <td>1138.62       </td>\n",
       "        </tr>\n",
       "        <tr>\n",
       "            <td>Doctor Zhivago                  </td> <td>1103.56       </td>\n",
       "        </tr>\n",
       "        <tr>\n",
       "            <td>The Exorcist                    </td> <td>983.23        </td>\n",
       "        </tr>\n",
       "        <tr>\n",
       "            <td>Snow White and the Seven Dwarves</td> <td>969.01        </td>\n",
       "        </tr>\n",
       "    </tbody>\n",
       "</table>\n",
       "<p>... (190 rows omitted)</p>"
      ],
      "text/plain": [
       "Title                            | Adjusted Gross\n",
       "Gone with the Wind               | 1796.18\n",
       "Star Wars                        | 1583.48\n",
       "The Sound of Music               | 1266.07\n",
       "E.T.: The Extra-Terrestrial      | 1261.08\n",
       "Titanic                          | 1204.37\n",
       "The Ten Commandments             | 1164.59\n",
       "Jaws                             | 1138.62\n",
       "Doctor Zhivago                   | 1103.56\n",
       "The Exorcist                     | 983.23\n",
       "Snow White and the Seven Dwarves | 969.01\n",
       "... (190 rows omitted)"
      ]
     },
     "execution_count": 3,
     "metadata": {},
     "output_type": "execute_result"
    }
   ],
   "source": [
    "millions = top.select(0).with_columns('Adjusted Gross', \n",
    "                                     np.round(top.column(3)/1e6, 2))\n",
    "millions"
   ]
  },
  {
   "cell_type": "markdown",
   "metadata": {},
   "source": [
    "## Binning the Data ##\n",
    "Look at the values of the quantitative variable `Adjusted Gross`. There is likely to be only one movie at each individual value, since the values are being measured rather finely. It is more interesting to group the values into intervals, known as *bins*, and see how many movies are in each bin. This process is called *binning*.\n",
    "\n",
    "The counts of individuals (that is, rows) in the bins can be computed using the `bin` method, analogous to the `group` method used in the case of categorical data. The `bin` method takes as its argument a column label or index, and an optional argument in which you can specify the bins that you want. \n",
    "\n",
    "The result is a two-column table that contains the number of rows in each bin. The first column lists the left endpoints of the bins (but see the note about the last bin, below). \n",
    "\n",
    "Let's try out the method and examine the details of the output. To choose some bins, we will start by looking at the smallest and largest values of `Adjusted Gross`."
   ]
  },
  {
   "cell_type": "code",
   "execution_count": 4,
   "metadata": {},
   "outputs": [
    {
     "data": {
      "text/plain": [
       "(338.41, 1796.18)"
      ]
     },
     "execution_count": 4,
     "metadata": {},
     "output_type": "execute_result"
    }
   ],
   "source": [
    "adj_gross = millions.column('Adjusted Gross')\n",
    "min(adj_gross), max(adj_gross)"
   ]
  },
  {
   "cell_type": "markdown",
   "metadata": {},
   "source": [
    "Let's try bins of width 100, starting at 300 and going to 2000. You are welcome to make other choices. It is common to start with something that seems reasonable and then adjust based on the results."
   ]
  },
  {
   "cell_type": "code",
   "execution_count": 5,
   "metadata": {},
   "outputs": [
    {
     "data": {
      "text/html": [
       "<table border=\"1\" class=\"dataframe\">\n",
       "    <thead>\n",
       "        <tr>\n",
       "            <th>bin</th> <th>Adjusted Gross count</th>\n",
       "        </tr>\n",
       "    </thead>\n",
       "    <tbody>\n",
       "        <tr>\n",
       "            <td>300 </td> <td>68                  </td>\n",
       "        </tr>\n",
       "        <tr>\n",
       "            <td>400 </td> <td>60                  </td>\n",
       "        </tr>\n",
       "        <tr>\n",
       "            <td>500 </td> <td>32                  </td>\n",
       "        </tr>\n",
       "        <tr>\n",
       "            <td>600 </td> <td>15                  </td>\n",
       "        </tr>\n",
       "        <tr>\n",
       "            <td>700 </td> <td>7                   </td>\n",
       "        </tr>\n",
       "        <tr>\n",
       "            <td>800 </td> <td>7                   </td>\n",
       "        </tr>\n",
       "        <tr>\n",
       "            <td>900 </td> <td>3                   </td>\n",
       "        </tr>\n",
       "        <tr>\n",
       "            <td>1000</td> <td>0                   </td>\n",
       "        </tr>\n",
       "        <tr>\n",
       "            <td>1100</td> <td>3                   </td>\n",
       "        </tr>\n",
       "        <tr>\n",
       "            <td>1200</td> <td>3                   </td>\n",
       "        </tr>\n",
       "        <tr>\n",
       "            <td>1300</td> <td>0                   </td>\n",
       "        </tr>\n",
       "        <tr>\n",
       "            <td>1400</td> <td>0                   </td>\n",
       "        </tr>\n",
       "        <tr>\n",
       "            <td>1500</td> <td>1                   </td>\n",
       "        </tr>\n",
       "        <tr>\n",
       "            <td>1600</td> <td>0                   </td>\n",
       "        </tr>\n",
       "        <tr>\n",
       "            <td>1700</td> <td>1                   </td>\n",
       "        </tr>\n",
       "        <tr>\n",
       "            <td>1800</td> <td>0                   </td>\n",
       "        </tr>\n",
       "        <tr>\n",
       "            <td>1900</td> <td>0                   </td>\n",
       "        </tr>\n",
       "        <tr>\n",
       "            <td>2000</td> <td>0                   </td>\n",
       "        </tr>\n",
       "    </tbody>\n",
       "</table>"
      ],
      "text/plain": [
       "<IPython.core.display.HTML object>"
      ]
     },
     "metadata": {},
     "output_type": "display_data"
    }
   ],
   "source": [
    "bin_counts = millions.bin('Adjusted Gross', bins=np.arange(300,2001,100))\n",
    "bin_counts.show()"
   ]
  },
  {
   "cell_type": "markdown",
   "metadata": {},
   "source": [
    "Let's examine Column 0, the `bin` column. This column specifies the left end of each bin, except in the last row as explained below. \n",
    "\n",
    "Since the bins split the number line into intervals, they are contiguous. So we must be careful about values at the endpoints. By the usual Python convention, each bin except the last includes its left endpoint but not its right endpoint.\n",
    "\n",
    "To make this point, we will use the notation [*a, b*) to refer to the bin that contains all the values that are greater than or equal to *a* and strictly less than *b*.\n",
    "\n",
    "To understand the first row of the table, you have to look at the second row as well. These two rows tell us that there were 68 movies in the bin [300, 400). That is, 68 movies had adjusted gross receipts of at least 300 million dollars but less than 400 million dollars.\n",
    "\n",
    "In general, each element in the `Adjusted Gross count` column counts all the `Adjusted Gross` values that are greater than or equal to the value in `bin`, but less than the next value in `bin`.\n",
    "\n",
    "**The last bin:** Notice the `bin` value 2000 in the last row. That's not the left endpoint of any bin. Instead, it's the right endpoint of the last bin. This bin is different from all the others in that it has the form [a, b]. It includes the data at *both* endpoints. In our example it doesn't matter because no movie made 2 billion dollars (that is, 2000 million). But this aspect of binning is important to keep in mind in case you want the bins to end exactly at the maximum value of the data. All the counts for this last bin appear in the second-to-last row, and the count for the last row is always zero. \n",
    "\n",
    "There are other ways to use the `bin` method. If you don't specify any bins, the default is to produce 10 equally wide bins between the minimum and maximum values of the data. This is often useful for getting a quick sense of the distribution, but the endpoints of the bins tend to be alarming."
   ]
  },
  {
   "cell_type": "code",
   "execution_count": 6,
   "metadata": {},
   "outputs": [
    {
     "data": {
      "text/html": [
       "<table border=\"1\" class=\"dataframe\">\n",
       "    <thead>\n",
       "        <tr>\n",
       "            <th>bin</th> <th>Adjusted Gross count</th>\n",
       "        </tr>\n",
       "    </thead>\n",
       "    <tbody>\n",
       "        <tr>\n",
       "            <td>338.41 </td> <td>115                 </td>\n",
       "        </tr>\n",
       "        <tr>\n",
       "            <td>484.187</td> <td>50                  </td>\n",
       "        </tr>\n",
       "        <tr>\n",
       "            <td>629.964</td> <td>14                  </td>\n",
       "        </tr>\n",
       "        <tr>\n",
       "            <td>775.741</td> <td>10                  </td>\n",
       "        </tr>\n",
       "        <tr>\n",
       "            <td>921.518</td> <td>3                   </td>\n",
       "        </tr>\n",
       "        <tr>\n",
       "            <td>1067.3 </td> <td>4                   </td>\n",
       "        </tr>\n",
       "        <tr>\n",
       "            <td>1213.07</td> <td>2                   </td>\n",
       "        </tr>\n",
       "        <tr>\n",
       "            <td>1358.85</td> <td>0                   </td>\n",
       "        </tr>\n",
       "        <tr>\n",
       "            <td>1504.63</td> <td>1                   </td>\n",
       "        </tr>\n",
       "        <tr>\n",
       "            <td>1650.4 </td> <td>1                   </td>\n",
       "        </tr>\n",
       "        <tr>\n",
       "            <td>1796.18</td> <td>0                   </td>\n",
       "        </tr>\n",
       "    </tbody>\n",
       "</table>"
      ],
      "text/plain": [
       "<IPython.core.display.HTML object>"
      ]
     },
     "metadata": {},
     "output_type": "display_data"
    }
   ],
   "source": [
    "millions.bin('Adjusted Gross').show()"
   ]
  },
  {
   "cell_type": "markdown",
   "metadata": {},
   "source": [
    "You can specify a number of equally wide bins. For example, the option `bins=4` leads to 4 equally spaced bins."
   ]
  },
  {
   "cell_type": "code",
   "execution_count": 7,
   "metadata": {},
   "outputs": [
    {
     "data": {
      "text/html": [
       "<table border=\"1\" class=\"dataframe\">\n",
       "    <thead>\n",
       "        <tr>\n",
       "            <th>bin</th> <th>Adjusted Gross count</th>\n",
       "        </tr>\n",
       "    </thead>\n",
       "    <tbody>\n",
       "        <tr>\n",
       "            <td>338.41 </td> <td>177                 </td>\n",
       "        </tr>\n",
       "        <tr>\n",
       "            <td>702.852</td> <td>15                  </td>\n",
       "        </tr>\n",
       "        <tr>\n",
       "            <td>1067.3 </td> <td>6                   </td>\n",
       "        </tr>\n",
       "        <tr>\n",
       "            <td>1431.74</td> <td>2                   </td>\n",
       "        </tr>\n",
       "        <tr>\n",
       "            <td>1796.18</td> <td>0                   </td>\n",
       "        </tr>\n",
       "    </tbody>\n",
       "</table>"
      ],
      "text/plain": [
       "bin     | Adjusted Gross count\n",
       "338.41  | 177\n",
       "702.852 | 15\n",
       "1067.3  | 6\n",
       "1431.74 | 2\n",
       "1796.18 | 0"
      ]
     },
     "execution_count": 7,
     "metadata": {},
     "output_type": "execute_result"
    }
   ],
   "source": [
    "millions.bin('Adjusted Gross', bins=4)"
   ]
  },
  {
   "cell_type": "markdown",
   "metadata": {},
   "source": [
    "But with quantitative data, the bins don't have to be equally wide. We will see an example of unequal bins later."
   ]
  },
  {
   "cell_type": "markdown",
   "metadata": {},
   "source": [
    "## Histogram\n",
    "A *histogram* is a visualization of the distribution of a quantitative variable. It looks very much like a bar chart but there are some important differences that we will examine in this section. First, let's just draw a histogram of the adjusted receipts.\n",
    "\n",
    "The `hist` method generates a histogram of the values in a column. The optional `unit` argument is used in the labels on the two axes. The histogram below shows the distribution of the adjusted gross amounts, in millions of 2016 dollars. We have not specified the bins, so `hist` creates 10 equally wide bins between the minimum and maximum values of the data."
   ]
  },
  {
   "cell_type": "code",
   "execution_count": 8,
   "metadata": {},
   "outputs": [
    {
     "data": {
      "image/png": "[encoded data removed]",
      "text/plain": [
       "<Figure size 432x288 with 1 Axes>"
      ]
     },
     "metadata": {},
     "output_type": "display_data"
    }
   ],
   "source": [
    "millions.hist('Adjusted Gross', unit=\"Million Dollars\")"
   ]
  },
  {
   "cell_type": "markdown",
   "metadata": {},
   "source": [
    "This figure has two numerical axes. We will take a quick look at the horizontal axis first, and then examine the vertical axis carefully. For now, just note that **the vertical axis does not represent percents**."
   ]
  },
  {
   "cell_type": "markdown",
   "metadata": {},
   "source": [
    "## The Horizontal Axis\n",
    "\n",
    "Although in this dataset no movie grossed an amount that is exactly on the edge between two bins, `hist` does have to account for situations where there might have been values at the edges. So `hist` uses the same *endpoint convention* as the `bin` method. Bins include the data at their left endpoint, but not the data at their right endpoint, except for the rightmost bin which includes both endpoints. \n",
    "\n",
    "We can see that there are 10 bins (some bars are so low that they are hard to see), and that they all have the same width. We can also see that none of the movies grossed fewer than 300 million dollars; that is because we are considering only the top grossing movies. \n",
    "\n",
    "It is a little harder to see exactly where the ends of the bins are situated. So it is hard to judge exactly where one bar ends and the next begins.\n",
    "\n",
    "The optional argument `bins` can be used with `hist` to specify the endpoints of the bins exactly as with the `bin` method. We will start by setting the numbers in `bins` to be 300, 400, 500, and so on, ending with 2000.  "
   ]
  },
  {
   "cell_type": "code",
   "execution_count": 9,
   "metadata": {},
   "outputs": [
    {
     "data": {
      "image/png": "[encoded data removed]",
      "text/plain": [
       "<Figure size 432x288 with 1 Axes>"
      ]
     },
     "metadata": {},
     "output_type": "display_data"
    }
   ],
   "source": [
    "millions.hist('Adjusted Gross', bins=np.arange(300,2001,100), unit=\"Million Dollars\")"
   ]
  },
  {
   "cell_type": "markdown",
   "metadata": {},
   "source": [
    "The horizontal axis of this figure is easier to read. For example, you can see exactly where 600 is, even though it is not labeled.\n",
    "\n",
    "A very small number of movies grossed a billion dollars (1000 million) or more. This results in the figure being *skewed to the right*, or, less formally, having *a long right hand tail*. Distributions of variables like income or rent in large populations also often have this kind of shape."
   ]
  },
  {
   "cell_type": "markdown",
   "metadata": {},
   "source": [
    "## The Area Principle ##\n",
    "Both axes of a histogram are numerical, so you can do arithmetic on both of them. For example, you can multiply the values on either or both of the axes by a factor. To see how this could affect visual perception, let's step back from histograms and look at a graphic provided for this purpose by the site [Flowing Data](https://flowingdata.com/2012/03/16/new-ipad-battery-size-is-huge/). It is a comparison between the battery sizes of two iPad models.\n",
    "\n",
    "![iPad batteries](../../../images/ipad_battery.png)\n",
    "\n",
    "The larger of the batteries is supposed to be 70% bigger than the smaller. So it's meant to be bigger but not quite twice as big. However, the larger battery in the picture looks almost four times the size of the smaller one.\n",
    "\n",
    "The reason for this problem is that the eye picks up *area* as the measure of size, not just height or just width. In the picture, both dimensions have been increased by 70%, leading to a multiplicative effect in the area.\n",
    "\n",
    "The area principle of visualization says that when we represent a magnitude by a figure that has two dimensions, such as a rectangle, then the *area* of the figure should represent the magnitude."
   ]
  },
  {
   "cell_type": "markdown",
   "metadata": {},
   "source": [
    "## The Histogram: General Principles and Calculation\n",
    "\n",
    "Histograms follow the area principle and have two defining properties:\n",
    "\n",
    "1. The bins are drawn to scale and are contiguous (though some might be empty), because the values on the horizontal axis are numerical and therefore have fixed positions on the number line.\n",
    "2. The **area** of each bar is proportional to the number of entries in the bin. \n",
    "\n",
    "Property 2 is the key to drawing a histogram, and is usually achieved as follows:\n",
    "\n",
    "$$\n",
    "\\mbox{area of bar} ~=~ \\mbox{percent of entries in bin}\n",
    "$$\n",
    "\n",
    "Since areas represent percents, heights represent something other than percents. The numerical calculation of the heights just uses the fact that the bar is a rectangle:\n",
    "\n",
    "$$\n",
    "\\mbox{area of bar} = \\mbox{height of bar} \\times \\mbox{width of bin}\n",
    "$$\n",
    "\n",
    "and so\n",
    "\n",
    "$$\n",
    "\\mbox{height of bar} ~=~ \n",
    "\\frac{\\mbox{area of bar}}{\\mbox{width of bin}} ~=~\n",
    "\\frac{\\mbox{percent of entries in bin}}{\\mbox{width of bin}}\n",
    "$$\n",
    "\n",
    "The units of height are \"percent per unit on the horizontal axis.\" The height is the percent in the bin relative to the width of the bin. So it is called *density* or *crowdedness*.\n",
    "\n",
    "When drawn using this method, the histogram is said to be drawn on the *density scale*. On this scale:\n",
    "- The area of each bar is equal to the percent of data values that are in the corresponding bin.\n",
    "- The total area of all the bars in the histogram is 100%. In terms of proportions, we can say that the areas of all the bars in a histogram \"sum to 1\"."
   ]
  },
  {
   "cell_type": "markdown",
   "metadata": {},
   "source": [
    "## The Vertical Axis: Density Scale\n",
    "\n",
    "As we have just seen, the height of each bar is the percent of elements that fall into the corresponding bin, relative to the width of the bin. We will now see how `hist` calculated the heights of all the bars of the histogram above. \n",
    "\n",
    "Here is the histogram again for ease of reference. "
   ]
  },
  {
   "cell_type": "code",
   "execution_count": 10,
   "metadata": {},
   "outputs": [
    {
     "data": {
      "image/png": "[encoded data removed]",
      "text/plain": [
       "<Figure size 432x288 with 1 Axes>"
      ]
     },
     "metadata": {},
     "output_type": "display_data"
    }
   ],
   "source": [
    "millions.hist('Adjusted Gross', bins=np.arange(300,2001,100), unit=\"Million Dollars\")"
   ]
  },
  {
   "cell_type": "markdown",
   "metadata": {},
   "source": [
    "Recall that the table `bin_counts` has the counts in all the bins of the histogram, specified by `bins=np.arange(300, 2000, 100)`. Also remember that there are 200 movies in all."
   ]
  },
  {
   "cell_type": "code",
   "execution_count": 11,
   "metadata": {},
   "outputs": [
    {
     "data": {
      "text/html": [
       "<table border=\"1\" class=\"dataframe\">\n",
       "    <thead>\n",
       "        <tr>\n",
       "            <th>bin</th> <th>Adjusted Gross count</th>\n",
       "        </tr>\n",
       "    </thead>\n",
       "    <tbody>\n",
       "        <tr>\n",
       "            <td>300 </td> <td>68                  </td>\n",
       "        </tr>\n",
       "        <tr>\n",
       "            <td>400 </td> <td>60                  </td>\n",
       "        </tr>\n",
       "        <tr>\n",
       "            <td>500 </td> <td>32                  </td>\n",
       "        </tr>\n",
       "    </tbody>\n",
       "</table>\n",
       "<p>... (15 rows omitted)</p>"
      ],
      "text/plain": [
       "<IPython.core.display.HTML object>"
      ]
     },
     "metadata": {},
     "output_type": "display_data"
    }
   ],
   "source": [
    "bin_counts.show(3)"
   ]
  },
  {
   "cell_type": "markdown",
   "metadata": {},
   "source": [
    "The [300, 400) bin contains 68 movies. That's 34% of all the movies:\n",
    "\n",
    "$$\n",
    "\\mbox{Percent} = \\frac{68}{200} \\cdot 100 = 34\n",
    "$$\n",
    "\n",
    "The width of the [300, 400) bin is $400 - 300 = 100$. So\n",
    "\n",
    "$$\n",
    "\\mbox{Height} = \\frac{34}{100} = 0.34\n",
    "$$\n",
    "\n",
    "**Units:** The height of the bar is 34% divided by 100 million dollars, and so the height is 0.34% per million dollars. \n",
    "\n",
    "The height of bar is **not** the percent of entries in the bin. It is the percent of entries in the bin relative to the amount of space in the bin. That is why the height measures crowdedness or density. The vertical axis is said to be on the density scale. "
   ]
  },
  {
   "cell_type": "markdown",
   "metadata": {},
   "source": [
    "## Why Not Simply Plot the Counts?\n",
    "\n",
    "The main reason for plotting density on the vertical axis instead of counts or percents is to be able to compare histograms and approximate them with smooth curves where proportions are represented by areas under the curve.\n",
    "\n",
    "For example, later in the course you will see histograms that are approximately bell-shaped. The figure below shows such a shape. The gold shaded area happens to be 95% of the total area under the curve. Notice that this is quite believeable based on the areas you see in the figure, even though there are no numbers on the axes. That is why we draw histograms so that areas represent percents.\n",
    "\n",
    "![shaded bell-shaped curve](../../../images/normal_shaded.png)\n",
    "\n",
    "Drawing histograms on the density scale also allows us to compare histograms that are based on data sets of different sizes or have different choices of bins. In such cases, neither bin counts nor percents may be directly comparable. But if both histograms are drawn to the density scale then areas and densities are comparable.\n",
    "\n",
    "If a histogram has unequal bins, then plotting on the density scale is a requirement for interpretability. For some variables, unequal bins may be natural. For example, in the U.S. education system, elementary school consists of Grades 1-5, middle school is Grades 6-8, high school is Grades 9-12, and a Bachelor's degree takes a further four years. Data on years of education might be binned using these intervals. In fact, no matter what the variable, bins don't have to be equal. It is quite common to have one very wide bin towards the left end or right end of the data, where there are not many values.\n",
    "\n",
    "Let's plot a histogram of adjusted gross receipts using unequal bins, and then see what happens if we plot counts instead."
   ]
  },
  {
   "cell_type": "code",
   "execution_count": 12,
   "metadata": {},
   "outputs": [
    {
     "data": {
      "image/png": "[encoded data removed]",
      "text/plain": [
       "<Figure size 432x288 with 1 Axes>"
      ]
     },
     "metadata": {},
     "output_type": "display_data"
    }
   ],
   "source": [
    "uneven = make_array(300, 350, 400, 500, 1800)\n",
    "millions.hist('Adjusted Gross', bins=uneven, unit=\"Million Dollars\")"
   ]
  },
  {
   "cell_type": "markdown",
   "metadata": {},
   "source": [
    "Notice that the [400, 500) bar has the same height (0.3% per million dollars) as in the histograms above. \n",
    "\n",
    "The areas of the other bars represent the percents in the bins, as usual. The `bin` method allows us to see the counts in each bin."
   ]
  },
  {
   "cell_type": "code",
   "execution_count": 13,
   "metadata": {},
   "outputs": [
    {
     "data": {
      "text/html": [
       "<table border=\"1\" class=\"dataframe\">\n",
       "    <thead>\n",
       "        <tr>\n",
       "            <th>bin</th> <th>Adjusted Gross count</th>\n",
       "        </tr>\n",
       "    </thead>\n",
       "    <tbody>\n",
       "        <tr>\n",
       "            <td>300 </td> <td>14                  </td>\n",
       "        </tr>\n",
       "        <tr>\n",
       "            <td>350 </td> <td>54                  </td>\n",
       "        </tr>\n",
       "        <tr>\n",
       "            <td>400 </td> <td>60                  </td>\n",
       "        </tr>\n",
       "        <tr>\n",
       "            <td>500 </td> <td>72                  </td>\n",
       "        </tr>\n",
       "        <tr>\n",
       "            <td>1800</td> <td>0                   </td>\n",
       "        </tr>\n",
       "    </tbody>\n",
       "</table>"
      ],
      "text/plain": [
       "bin  | Adjusted Gross count\n",
       "300  | 14\n",
       "350  | 54\n",
       "400  | 60\n",
       "500  | 72\n",
       "1800 | 0"
      ]
     },
     "execution_count": 13,
     "metadata": {},
     "output_type": "execute_result"
    }
   ],
   "source": [
    "millions.bin('Adjusted Gross', bins=uneven)"
   ]
  },
  {
   "cell_type": "markdown",
   "metadata": {},
   "source": [
    "The [300, 350) bin has only 14 movies whereas the [500, 1800] bin has 72 movies. But the bar over the [500, 1800] bin is much shorter than the bar over [300, 350). The [500, 1800] bin is so wide that its 72 movies are much less crowded than the 14 movies in the narrow [300, 350) bin. In other words, there is less density over the [500, 1800] interval.\n",
    "\n",
    "If instead you just plot the counts using the `normed=False` option as shown below, the figure looks completely different and misrepresents the data."
   ]
  },
  {
   "cell_type": "code",
   "execution_count": 14,
   "metadata": {},
   "outputs": [
    {
     "data": {
      "image/png": "[encoded data removed]",
      "text/plain": [
       "<Figure size 432x288 with 1 Axes>"
      ]
     },
     "metadata": {},
     "output_type": "display_data"
    }
   ],
   "source": [
    "millions.hist('Adjusted Gross', bins=uneven, normed=False)"
   ]
  },
  {
   "cell_type": "markdown",
   "metadata": {},
   "source": [
    "Even though `hist` has been used, **the figure above is NOT A HISTOGRAM.** It misleadingly exaggerates the movies grossing at least 500 million dollars. The height of each bar is simply plotted at the number of movies in the bin, without accounting for the difference in the widths of the bins. In this count-based figure, the shape of the distribution of movies is lost entirely."
   ]
  },
  {
   "cell_type": "markdown",
   "metadata": {},
   "source": [
    "## Flat Tops and the Level of Detail\n",
    "\n",
    "Even though the density scale correctly represents percents using area, some detail is lost by grouping values into bins.\n",
    "\n",
    "Take another look at the [400, 500) bin in the figure below. The flat top of the bar, at the level 0.3% per million dollars, hides the fact that the movies are somewhat unevenly distributed across that bin. "
   ]
  },
  {
   "cell_type": "code",
   "execution_count": 15,
   "metadata": {},
   "outputs": [
    {
     "data": {
      "image/png": "[encoded data removed]",
      "text/plain": [
       "<Figure size 432x288 with 1 Axes>"
      ]
     },
     "metadata": {},
     "output_type": "display_data"
    }
   ],
   "source": [
    "millions.hist('Adjusted Gross', bins=uneven, unit=\"Million Dollars\")"
   ]
  },
  {
   "cell_type": "markdown",
   "metadata": {},
   "source": [
    "To see this, let us split the [400, 500) bin into 10 narrower bins, each of width 10 million dollars."
   ]
  },
  {
   "cell_type": "code",
   "execution_count": 16,
   "metadata": {},
   "outputs": [
    {
     "data": {
      "image/png": "[encoded data removed]",
      "text/plain": [
       "<Figure size 432x288 with 1 Axes>"
      ]
     },
     "metadata": {},
     "output_type": "display_data"
    }
   ],
   "source": [
    "some_tiny_bins = make_array(\n",
    "    300, 350, 400, 410, 420, 430, 440, 450, 460, 470, 480, 490, 500, 1800)\n",
    "millions.hist('Adjusted Gross', bins=some_tiny_bins, unit='Million Dollars')"
   ]
  },
  {
   "cell_type": "markdown",
   "metadata": {},
   "source": [
    "Some of the skinny bars are taller than 0.3 and others are shorter. By putting a flat top at the level 0.3 across the whole bin, we are deciding to ignore the finer detail and are using the flat level as a rough approximation. Often, though not always, this is sufficient for understanding the general shape of the distribution.\n",
    "\n",
    "**The height as a rough approximation.**\n",
    "This observation gives us a different way of thinking about the height.\n",
    "Look again at the [400, 500) bin in the earlier histograms. As we have seen, the bin is 100 million dollars wide and contains 30% of the data. Therefore the height of the corresponding bar is 0.3% per million dollars.\n",
    "\n",
    "Now think of the bin as consisting of 100 narrow bins that are each 1 million dollars wide. The bar's height of \"0.3% per million dollars\" means that as a rough approximation, 0.3% of the movies are in each of those 100 skinny bins of width 1 million dollars.\n",
    "\n",
    "We have the entire dataset that is being used to draw the histograms. So we can draw the histograms to as fine a level of detail as the data and our patience will allow. Smaller bins will lead to a more detailed picture. However, if you are looking at a histogram in a book or on a website, and you don't have access to the underlying dataset, then it becomes important to have a clear understanding of the \"rough approximation\" created by the flat tops."
   ]
  },
  {
   "cell_type": "markdown",
   "metadata": {},
   "source": [
    "## Computing All Heights ##\n",
    "We know how to find the height of each histogram bar. Let's use that to develop code that computes all the heights at once. \n",
    "\n",
    "We will use the histogram below as our example. The bins are specified in the array `uneven`."
   ]
  },
  {
   "cell_type": "code",
   "execution_count": 17,
   "metadata": {},
   "outputs": [
    {
     "data": {
      "image/png": "[encoded data removed]",
      "text/plain": [
       "<Figure size 432x288 with 1 Axes>"
      ]
     },
     "metadata": {},
     "output_type": "display_data"
    }
   ],
   "source": [
    "millions.hist('Adjusted Gross', bins=uneven, unit=\"Million Dollars\")"
   ]
  },
  {
   "cell_type": "markdown",
   "metadata": {},
   "source": [
    "We will start by getting the counts in the bins."
   ]
  },
  {
   "cell_type": "code",
   "execution_count": 18,
   "metadata": {},
   "outputs": [
    {
     "data": {
      "text/html": [
       "<table border=\"1\" class=\"dataframe\">\n",
       "    <thead>\n",
       "        <tr>\n",
       "            <th>bin</th> <th>count</th>\n",
       "        </tr>\n",
       "    </thead>\n",
       "    <tbody>\n",
       "        <tr>\n",
       "            <td>300 </td> <td>14   </td>\n",
       "        </tr>\n",
       "        <tr>\n",
       "            <td>350 </td> <td>54   </td>\n",
       "        </tr>\n",
       "        <tr>\n",
       "            <td>400 </td> <td>60   </td>\n",
       "        </tr>\n",
       "        <tr>\n",
       "            <td>500 </td> <td>72   </td>\n",
       "        </tr>\n",
       "        <tr>\n",
       "            <td>1800</td> <td>0    </td>\n",
       "        </tr>\n",
       "    </tbody>\n",
       "</table>"
      ],
      "text/plain": [
       "bin  | count\n",
       "300  | 14\n",
       "350  | 54\n",
       "400  | 60\n",
       "500  | 72\n",
       "1800 | 0"
      ]
     },
     "execution_count": 18,
     "metadata": {},
     "output_type": "execute_result"
    }
   ],
   "source": [
    "histogram_elements = millions.bin('Adjusted Gross', bins=uneven).relabeled(1, 'count')\n",
    "histogram_elements"
   ]
  },
  {
   "cell_type": "markdown",
   "metadata": {},
   "source": [
    "We can now add a column containing the percent in each bin."
   ]
  },
  {
   "cell_type": "code",
   "execution_count": 19,
   "metadata": {},
   "outputs": [
    {
     "data": {
      "text/html": [
       "<table border=\"1\" class=\"dataframe\">\n",
       "    <thead>\n",
       "        <tr>\n",
       "            <th>bin</th> <th>count</th> <th>percent</th>\n",
       "        </tr>\n",
       "    </thead>\n",
       "    <tbody>\n",
       "        <tr>\n",
       "            <td>300 </td> <td>14   </td> <td>7      </td>\n",
       "        </tr>\n",
       "        <tr>\n",
       "            <td>350 </td> <td>54   </td> <td>27     </td>\n",
       "        </tr>\n",
       "        <tr>\n",
       "            <td>400 </td> <td>60   </td> <td>30     </td>\n",
       "        </tr>\n",
       "        <tr>\n",
       "            <td>500 </td> <td>72   </td> <td>36     </td>\n",
       "        </tr>\n",
       "        <tr>\n",
       "            <td>1800</td> <td>0    </td> <td>0      </td>\n",
       "        </tr>\n",
       "    </tbody>\n",
       "</table>"
      ],
      "text/plain": [
       "bin  | count | percent\n",
       "300  | 14    | 7\n",
       "350  | 54    | 27\n",
       "400  | 60    | 30\n",
       "500  | 72    | 36\n",
       "1800 | 0     | 0"
      ]
     },
     "execution_count": 19,
     "metadata": {},
     "output_type": "execute_result"
    }
   ],
   "source": [
    "total_count = sum(histogram_elements.column('count'))\n",
    "percents = np.round(100*histogram_elements.column('count')/total_count, 2)\n",
    "histogram_elements = histogram_elements.with_columns('percent', percents)\n",
    "histogram_elements"
   ]
  },
  {
   "cell_type": "markdown",
   "metadata": {},
   "source": [
    "Column 0 contains the left ends of all the bins, except for its last element which is the right end of the last bin. So we can use `np.diff` to find the widths of all the bins. Then we will add the widths to the `histogram_elements` table, by first removing the last row."
   ]
  },
  {
   "cell_type": "code",
   "execution_count": 20,
   "metadata": {},
   "outputs": [
    {
     "data": {
      "text/html": [
       "<table border=\"1\" class=\"dataframe\">\n",
       "    <thead>\n",
       "        <tr>\n",
       "            <th>bin</th> <th>count</th> <th>percent</th> <th>width</th>\n",
       "        </tr>\n",
       "    </thead>\n",
       "    <tbody>\n",
       "        <tr>\n",
       "            <td>300 </td> <td>14   </td> <td>7      </td> <td>50   </td>\n",
       "        </tr>\n",
       "        <tr>\n",
       "            <td>350 </td> <td>54   </td> <td>27     </td> <td>50   </td>\n",
       "        </tr>\n",
       "        <tr>\n",
       "            <td>400 </td> <td>60   </td> <td>30     </td> <td>100  </td>\n",
       "        </tr>\n",
       "        <tr>\n",
       "            <td>500 </td> <td>72   </td> <td>36     </td> <td>1300 </td>\n",
       "        </tr>\n",
       "    </tbody>\n",
       "</table>"
      ],
      "text/plain": [
       "bin  | count | percent | width\n",
       "300  | 14    | 7       | 50\n",
       "350  | 54    | 27      | 50\n",
       "400  | 60    | 30      | 100\n",
       "500  | 72    | 36      | 1300"
      ]
     },
     "execution_count": 20,
     "metadata": {},
     "output_type": "execute_result"
    }
   ],
   "source": [
    "bin_widths = np.diff(histogram_elements.column('bin'))\n",
    "num_bins = histogram_elements.num_rows - 1    # the number of bins\n",
    "histogram_elements = histogram_elements.take(\n",
    "    np.arange(num_bins)).with_columns(\n",
    "    'width', bin_widths\n",
    ")\n",
    "histogram_elements"
   ]
  },
  {
   "cell_type": "markdown",
   "metadata": {},
   "source": [
    "Finally, we can add a column of heights."
   ]
  },
  {
   "cell_type": "code",
   "execution_count": 21,
   "metadata": {},
   "outputs": [
    {
     "data": {
      "text/html": [
       "<table border=\"1\" class=\"dataframe\">\n",
       "    <thead>\n",
       "        <tr>\n",
       "            <th>bin</th> <th>count</th> <th>percent</th> <th>width</th> <th>height</th>\n",
       "        </tr>\n",
       "    </thead>\n",
       "    <tbody>\n",
       "        <tr>\n",
       "            <td>300 </td> <td>14   </td> <td>7      </td> <td>50   </td> <td>0.14  </td>\n",
       "        </tr>\n",
       "        <tr>\n",
       "            <td>350 </td> <td>54   </td> <td>27     </td> <td>50   </td> <td>0.54  </td>\n",
       "        </tr>\n",
       "        <tr>\n",
       "            <td>400 </td> <td>60   </td> <td>30     </td> <td>100  </td> <td>0.3   </td>\n",
       "        </tr>\n",
       "        <tr>\n",
       "            <td>500 </td> <td>72   </td> <td>36     </td> <td>1300 </td> <td>0.03  </td>\n",
       "        </tr>\n",
       "    </tbody>\n",
       "</table>"
      ],
      "text/plain": [
       "bin  | count | percent | width | height\n",
       "300  | 14    | 7       | 50    | 0.14\n",
       "350  | 54    | 27      | 50    | 0.54\n",
       "400  | 60    | 30      | 100   | 0.3\n",
       "500  | 72    | 36      | 1300  | 0.03"
      ]
     },
     "execution_count": 21,
     "metadata": {},
     "output_type": "execute_result"
    }
   ],
   "source": [
    "heights = np.round(\n",
    "    histogram_elements.column('percent')/histogram_elements.column('width'),2)\n",
    "histogram_elements = histogram_elements.with_columns('height', heights)\n",
    "histogram_elements"
   ]
  },
  {
   "cell_type": "markdown",
   "metadata": {},
   "source": [
    "Here is the histogram again for convenience. Compare it with the table above to confirm that the calculation of heights looks good."
   ]
  },
  {
   "cell_type": "code",
   "execution_count": 22,
   "metadata": {},
   "outputs": [
    {
     "data": {
      "image/png": "[encoded data removed]",
      "text/plain": [
       "<Figure size 432x288 with 1 Axes>"
      ]
     },
     "metadata": {},
     "output_type": "display_data"
    }
   ],
   "source": [
    "millions.hist('Adjusted Gross', bins=uneven)"
   ]
  },
  {
   "cell_type": "markdown",
   "metadata": {},
   "source": [
    "## Differences Between Bar Charts and Histograms \n",
    "\n",
    "- Bar charts display one numerical quantity per category. They are often used to display the distributions of categorical variables. Histograms display the distributions of quantitative variables. \n",
    "- All the bars in a bar chart have the same width, and there is an equal amount of space between consecutive bars. The bars can be in any order because the distribution is categorical. The bars of a histogram are contiguous; the bins are drawn to scale on the number line.\n",
    "- The lengths (or heights, if the bars are drawn vertically) of the bars in a bar chart are proportional to the count in each category. The heights of bars in a histogram measure densities; the *areas* of bars in a histogram are proportional to the counts in the bins."
   ]
  },
  {
   "cell_type": "code",
   "execution_count": null,
   "metadata": {},
   "outputs": [],
   "source": []
  }
 ],
 "metadata": {
  "anaconda-cloud": {},
  "kernelspec": {
   "display_name": "Python 3",
   "language": "python",
   "name": "python3"
  },
  "language_info": {
   "codemirror_mode": {
    "name": "ipython",
    "version": 3
   },
   "file_extension": ".py",
   "mimetype": "text/x-python",
   "name": "python",
   "nbconvert_exporter": "python",
   "pygments_lexer": "ipython3",
   "version": "3.8.5"
  }
 },
 "nbformat": 4,
 "nbformat_minor": 1
}
